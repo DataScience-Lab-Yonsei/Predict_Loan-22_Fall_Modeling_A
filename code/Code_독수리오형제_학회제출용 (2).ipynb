{
  "nbformat": 4,
  "nbformat_minor": 0,
  "metadata": {
    "colab": {
      "provenance": [],
      "collapsed_sections": [],
      "machine_shape": "hm"
    },
    "kernelspec": {
      "name": "python3",
      "display_name": "Python 3"
    },
    "language_info": {
      "name": "python"
    }
  },
  "cells": [
    {
      "cell_type": "markdown",
      "source": [
        "#코드 목차\n",
        "\n",
        "<br>\n",
        "0. 데이터 불러오기\n",
        "<br>\n",
        "<br>\n",
        "1. 데이터 전처리<br>\n",
        "#1.1. 데이터 병합<br>\n",
        "##1.1.1. Loan 데이터와 Spec 데이터 병합<br>\n",
        "#1.2. 변수 처리<br>\n",
        "##1.2.1. 변수 조작<br>\n",
        "##1.2.2. 결측치 처리<br>\n",
        "#1.3. 데이터 6월 기준으로 분리<br>\n",
        "##1.3.1. spec_loan 데이터의 분리<br>\n",
        "##1.3.2. log 데이터의 분리<br>\n",
        "#1.4. log 데이터의 유저별 데이터로 변환<br>\n",
        "##1.4.1. log 데이터의 유저별 데이터로 변환<br>\n",
        "\n",
        "<br>\n",
        "2. 탐색적 데이터 분석<br>\n",
        "#2.1. Spec 데이터 탐색<br>\n",
        "##2.1.1. Spec 데이터와 대출금리의 상관관계<br>\n",
        "##2.1.2. Spec 데이터와 대출한도의 상관관계<br>\n",
        "##2.1.3. Spec 데이터와 대출신청여부의 상관관계<br>\n",
        "#2.2. Loan 데이터 탐색<br>\n",
        "##2.2.1. 대출금리 및 대출한도의 신청여부와의 상관관계<br>\n",
        "##2.2.2. 은행 및 대출상품유형별 대출 신청률<br>\n",
        "#2.3. Log 데이터 탐색<br>\n",
        "##2.3.1. 대출신청여부에 따른 행동별 횟수 차이<br>\n",
        "\n",
        "<br>\n",
        "3. 예측 모델 훈련<br>\n",
        "#3.1. 인풋 변수 선택<br>\n",
        "#3.2. train 데이터와 test 데이터 분리<br>\n",
        "#3.3. 유저가 대출을 받을 확률 예측 훈련<br>\n",
        "##3.3.1. 유저 예측 훈련 train set 분리<br>\n",
        "##3.3.2. 모델 훈련<br>\n",
        "##3.3.3. 유저 예측 모델 성능<br>\n",
        "#3.4. 유저가 대출을 받을 때 주어진 상품이 선택될 확률 예측 훈련<br>\n",
        "##3.4.1. 상품 예측 훈련 train set 분리<br>\n",
        "##3.4.2. 모델 훈련<br>\n",
        "##3.4.3. 상품 예측 모델 성능<br>\n",
        "\n",
        "<br>\n",
        "4. 예측 모델 평가<br>\n",
        "#4.1. 유저가 대출을 받을 확률<br>\n",
        "#4.2. 유저가 대출을 받을 때 상품이 선택될 확률<br>\n",
        "#4.3. 최종 예측과 성능<br>\n",
        "\n",
        "\n"
      ],
      "metadata": {
        "id": "f4I-19xuusUE"
      }
    },
    {
      "cell_type": "markdown",
      "source": [
        "#0. 데이터 불러오기"
      ],
      "metadata": {
        "id": "goX6KKIAl_rO"
      }
    },
    {
      "cell_type": "code",
      "source": [
        "#Google Colab\n",
        "\n",
        "from google.colab import drive\n",
        "drive.mount('/content/drive')\n",
        "\n",
        "%cd /content/drive/MyDrive/Modeling Project 2022/제출할 것만 최종정리"
      ],
      "metadata": {
        "colab": {
          "base_uri": "https://localhost:8080/"
        },
        "id": "TJjj1DhFmDvS",
        "outputId": "86065f9f-bc06-4ed0-dc38-8f516e7a3b7e"
      },
      "execution_count": null,
      "outputs": [
        {
          "output_type": "stream",
          "name": "stdout",
          "text": [
            "Drive already mounted at /content/drive; to attempt to forcibly remount, call drive.mount(\"/content/drive\", force_remount=True).\n",
            "/content/drive/MyDrive/Modeling Project 2022/제출할 것만 최종정리\n"
          ]
        }
      ]
    },
    {
      "cell_type": "code",
      "source": [
        "#loan_result, log_data, user_spec 각각 불러와 loan, log, spec으로 저장\n",
        "\n",
        "import pandas as pd #pandas dataframe 사용\n",
        "\n",
        "loan = pd.read_csv('/content/drive/MyDrive/Modeling Project 2022/Data/raw data/loan_result.csv')\n",
        "loan = pd.DataFrame(loan)\n",
        "\n",
        "log = pd.read_csv('/content/drive/MyDrive/Modeling Project 2022/Data/raw data/log_data.csv')\n",
        "log = pd.DataFrame(log)\n",
        "\n",
        "spec = pd.read_csv('/content/drive/MyDrive/Modeling Project 2022/Data/raw data/user_spec.csv')\n",
        "spec = pd.DataFrame(spec)"
      ],
      "metadata": {
        "id": "HLc9XpuEmtsC"
      },
      "execution_count": null,
      "outputs": []
    },
    {
      "cell_type": "code",
      "source": [
        "#raw data의 정보\n",
        "\n",
        "print('<loan data>')\n",
        "print('크기 : ', len(loan), '*', len(loan.columns))\n",
        "print('변수명 : ', loan.columns)\n",
        "print('고유한 대출신청번호의 수 : ', len(loan['application_id'].unique()))\n",
        "print('')\n",
        "\n",
        "print('<log data>')\n",
        "print('크기 : ', len(log), '*', len(log.columns))\n",
        "print('변수명 : ', log.columns)\n",
        "print('고유한 유저의 수 : ', len(spec['user_id'].unique()))\n",
        "print('')\n",
        "\n",
        "print('<spec data>')\n",
        "print('크기 : ', len(spec), '*', len(spec.columns))\n",
        "print('변수명 : ', spec.columns)\n",
        "print('고유한 유저의 수 : ', len(log['user_id'].unique()))\n"
      ],
      "metadata": {
        "id": "p3cc-l8moBvP"
      },
      "execution_count": null,
      "outputs": []
    },
    {
      "cell_type": "code",
      "source": [
        "#결측값 확인\n",
        "\n",
        "print('Loan data')\n",
        "print(loan.isna().sum())\n",
        "print('')\n",
        "\n",
        "print('Log data')\n",
        "print(log.isna().sum())\n",
        "print('')\n",
        "\n",
        "print('Spec data')\n",
        "print(spec.isna().sum())"
      ],
      "metadata": {
        "id": "pNl5lL1WAVvP"
      },
      "execution_count": null,
      "outputs": []
    },
    {
      "cell_type": "markdown",
      "source": [
        "#1. 데이터 전처리"
      ],
      "metadata": {
        "id": "KTvg8Uy_nmzL"
      }
    },
    {
      "cell_type": "markdown",
      "source": [
        "##1.1. 데이터 병합"
      ],
      "metadata": {
        "id": "NHKL8AwanoJw"
      }
    },
    {
      "cell_type": "markdown",
      "source": [
        "###1.1.1. spec data와 loan data를 application_id를 기준으로 right join"
      ],
      "metadata": {
        "id": "HhrgCAnynuW3"
      }
    },
    {
      "cell_type": "code",
      "source": [
        "spec_loan = pd.merge(spec, loan, left_on='application_id', right_on='application_id', how='right')"
      ],
      "metadata": {
        "id": "3WeXm3ETqgqX"
      },
      "execution_count": null,
      "outputs": []
    },
    {
      "cell_type": "code",
      "source": [
        "#spec_loan 병합된 data의 정보\n",
        "\n",
        "print('<spec_loan data>')\n",
        "print('크기 : ', len(spec_loan), '*', len(spec_loan.columns))\n",
        "print('변수명 : ', spec_loan.columns)\n",
        "print('고유한 유저의 수 : ', len(spec_loan['user_id'].unique()))\n",
        "print('고유한 대출신청서의 수 : ', len(spec_loan['application_id'].unique()))\n"
      ],
      "metadata": {
        "id": "-x-_plkaqhoe"
      },
      "execution_count": null,
      "outputs": []
    },
    {
      "cell_type": "code",
      "source": [
        "#결측값 확인\n",
        "\n",
        "print('Spec_Loan data')\n",
        "print(spec_loan.isna().sum())\n",
        "print('')"
      ],
      "metadata": {
        "id": "Sm_uZENBBD7h"
      },
      "execution_count": null,
      "outputs": []
    },
    {
      "cell_type": "code",
      "source": [
        "#loan data에는 있는데 user data에는 없는 경우, 주최측의 안내에 따라 drop\n",
        "\n",
        "spec_loan = spec_loan.dropna(subset = ['user_id']) "
      ],
      "metadata": {
        "id": "1pNEQ7RzbH8G"
      },
      "execution_count": null,
      "outputs": []
    },
    {
      "cell_type": "code",
      "source": [
        "#loan_limit과 loan_rate가 결측치인 경우, 주최측의 안내에 따라 drop\n",
        "\n",
        "spec_loan = spec_loan.dropna(subset = ['loan_limit']) \n",
        "spec_loan = spec_loan.dropna(subset = ['loan_rate'])"
      ],
      "metadata": {
        "id": "BEjfHAE1cXDj"
      },
      "execution_count": null,
      "outputs": []
    },
    {
      "cell_type": "code",
      "source": [
        "#결측값 제거 후 데이터 프레임 정보\n",
        "\n",
        "print('<spec_loan data>')\n",
        "print('크기 : ', len(spec_loan), '*', len(spec_loan.columns))\n",
        "print('변수명 : ', spec_loan.columns)\n",
        "print('고유한 유저의 수 : ', len(spec_loan['user_id'].unique()))\n",
        "print('고유한 대출신청서의 수 : ', len(spec_loan['application_id'].unique()))"
      ],
      "metadata": {
        "id": "5KkGULu5bbi0"
      },
      "execution_count": null,
      "outputs": []
    },
    {
      "cell_type": "code",
      "source": [
        "#나머지 결측값\n",
        "\n",
        "print('Spec_Loan data')\n",
        "print(spec_loan.isna().sum())\n",
        "print('')"
      ],
      "metadata": {
        "id": "E4JHplmWbSQf"
      },
      "execution_count": null,
      "outputs": []
    },
    {
      "cell_type": "markdown",
      "source": [
        "##1.2. 변수 처리"
      ],
      "metadata": {
        "id": "22zsomrD-FIB"
      }
    },
    {
      "cell_type": "markdown",
      "source": [
        "###1.2.1. 변수 조작"
      ],
      "metadata": {
        "id": "4R1k4DokgJWy"
      }
    },
    {
      "cell_type": "code",
      "source": [
        "#태어난 연도를 연령으로 바꾸기\n",
        "\n",
        "spec_loan['birth_year'] = round(2022 - spec_loan['birth_year']) #태어난 연도를 연령으로 바꾸기\n",
        "spec_loan = spec_loan.rename(columns={'birth_year' : 'age'}) #변수명을 연령으로 바꾸기"
      ],
      "metadata": {
        "id": "5orWxupa-JQ5"
      },
      "execution_count": null,
      "outputs": []
    },
    {
      "cell_type": "code",
      "source": [
        "#purpose 변수는 한글과 영어가 혼합돼있어 영어로 통일\n",
        "\n",
        "purpose_rename = []\n",
        "for i in spec_loan['purpose']:\n",
        "  if i == '주택구입':\n",
        "    k = 'BUYHOUSE'\n",
        "  elif i == '전월세보증금':\n",
        "    k = 'HOUSEDEPOSIT'\n",
        "  elif i == '투자':\n",
        "    k = 'INVEST'\n",
        "  elif i == '자동차구입':\n",
        "    k = 'BUYCAR'\n",
        "  elif i == '기타':\n",
        "    k = 'ETC'\n",
        "  elif i == '사업자금':\n",
        "    k = 'BUSINESS'\n",
        "  elif i == '생활비':\n",
        "    k = 'LIVING'\n",
        "  elif i == '대환대출':\n",
        "    k = 'SWITCHLOAN'\n",
        "  else:\n",
        "    k = i\n",
        "  purpose_rename.append(k)\n",
        "spec_loan['purpose'] = purpose_rename"
      ],
      "metadata": {
        "id": "zVx56PhsaSxq"
      },
      "execution_count": null,
      "outputs": []
    },
    {
      "cell_type": "markdown",
      "source": [
        "###1.2.2. 결측치 처리"
      ],
      "metadata": {
        "id": "CwsHqqHVgOcH"
      }
    },
    {
      "cell_type": "code",
      "source": [
        "#결측값이 너무 많은 개인회생관련 칼럼 2개는 drop\n",
        "\n",
        "spec_loan.value_counts('personal_rehabilitation_complete_yn')\n",
        "spec_loan = spec_loan.drop(['personal_rehabilitation_complete_yn', 'personal_rehabilitation_yn'], axis = 1) "
      ],
      "metadata": {
        "id": "gcBnf0Hmck_h"
      },
      "execution_count": null,
      "outputs": []
    },
    {
      "cell_type": "code",
      "source": [
        "#기존대출금액은 결측값이 너무 많고 (약 3백만개) 합리적 추정이 불가능하여 칼럼 drop\n",
        "spec_loan = spec_loan.drop('existing_loan_amt', axis = 1)"
      ],
      "metadata": {
        "id": "EO3nQP_o_GFH"
      },
      "execution_count": null,
      "outputs": []
    },
    {
      "cell_type": "code",
      "source": [
        "#입사월은 결측값이 너무 많고 (약 40만개) 합리적 추정이 불가능하여 칼럼 drop\n",
        "spec_loan = spec_loan.drop('company_enter_month', axis = 1)"
      ],
      "metadata": {
        "id": "onDaHio9b0LL"
      },
      "execution_count": null,
      "outputs": []
    },
    {
      "cell_type": "code",
      "source": [
        "#기존대출개수의 최소값이 1이므로, 결측값은 기존대출이 없다는 것으로 간주\n",
        "\n",
        "spec_loan['existing_loan_cnt'].fillna(0, inplace = True) \n",
        "spec_loan['existing_loan_cnt'].min()"
      ],
      "metadata": {
        "colab": {
          "base_uri": "https://localhost:8080/"
        },
        "id": "h-omd8Z4dHxb",
        "outputId": "9d6458e7-a7b3-42d6-eb18-f54cf1e44bd8"
      },
      "execution_count": null,
      "outputs": [
        {
          "output_type": "execute_result",
          "data": {
            "text/plain": [
              "0.0"
            ]
          },
          "metadata": {},
          "execution_count": 16
        }
      ]
    },
    {
      "cell_type": "code",
      "source": [
        "#yearly_income의 경우 결측치가 6으로 매우 작으므로, 해당 칼럼의 평균으로 대체\n",
        "\n",
        "spec_loan['yearly_income'] = spec_loan['yearly_income'].fillna(spec_loan['yearly_income'].mean())"
      ],
      "metadata": {
        "id": "gZGJBdtZdAnQ"
      },
      "execution_count": null,
      "outputs": []
    },
    {
      "cell_type": "code",
      "source": [
        "#credit score의 경우 결측치가 많고 중요한 변수이므로, 여타 특성들의 회귀분석 결과로 대체\n",
        "\n",
        "from sklearn.linear_model import LinearRegression #OLS 회귀분석 결과로 대체할 것\n",
        "\n",
        "#범주형 변수들을 회귀분석 모델에 인풋으로 사용하기 위하여, 인코딩하는 과정\n",
        "\n",
        "uniq_incom_type = spec_loan['income_type'].unique().tolist() \n",
        "income_type_dict= {'PRACTITIONER':6, 'EARNEDINCOME':5,'EARNEDINCOME2':4 ,\n",
        "                   'PRIVATEBUSINESS':3,'FREELANCER':2,'OTHERINCOME':1, 'nan':0}\n",
        "\n",
        "uniq_house_type= spec_loan['houseown_type'].unique().tolist()\n",
        "house_type_dict= {'자가':4, '기타가족소유':3,'배우자':2 ,'전월세':1,'nan':0 }\n",
        "\n",
        "uniq_employment_type = spec_loan['employment_type'].unique().tolist()\n",
        "employment_type_dict= {'정규직':4, '계약직':3,'기타':2 ,'일용직':1,'nan':0 }\n",
        "\n",
        "def mapp_income(x):\n",
        "  x= str(x)\n",
        "  x=income_type_dict[x]\n",
        "  return x\n",
        "\n",
        "spec_loan['income_type'] = spec_loan['income_type'].apply(mapp_income)\n",
        "\n",
        "def mapp_house(x):\n",
        "  x= str(x)\n",
        "  x=house_type_dict[x]\n",
        "  return x\n",
        "\n",
        "spec_loan['houseown_type'] = spec_loan['houseown_type'].apply(mapp_house)\n",
        "\n",
        "def mapp_emp(x):\n",
        "  x= str(x)\n",
        "  x=employment_type_dict[x]\n",
        "  return x\n",
        "\n",
        "spec_loan['employment_type'] = spec_loan['employment_type'].apply(mapp_emp)\n",
        "\n",
        "#회귀분석 과정\n",
        "\n",
        "X_train = spec_loan[spec_loan['credit_score'].isna() == False] #결측이 아닌 행들을 모델 훈련에 사용\n",
        "X_test =  spec_loan[spec_loan['credit_score'].isna()] #결측인 행들을 테스트셋으로 사용\n",
        "\n",
        "y_train = X_train['credit_score']\n",
        "X_train= X_train[['yearly_income','income_type','houseown_type','employment_type', 'loan_limit', 'loan_rate']] \n",
        "#회귀모형의 독립변수는 소득, 소득형태, 주거형태, 고용형태, 대출한도, 대출금리\n",
        "X_test = X_test[['yearly_income','income_type','houseown_type','employment_type', 'loan_limit', 'loan_rate']]\n",
        "\n",
        "lr = LinearRegression()\n",
        "lr.fit(X_train,y_train)\n",
        "\n",
        "y_pred = lr.predict(X_test)\n",
        "spec_loan.loc[X_test.index, 'credit_score'] = y_pred"
      ],
      "metadata": {
        "id": "KuqPj3hbdh43"
      },
      "execution_count": null,
      "outputs": []
    },
    {
      "cell_type": "code",
      "source": [
        "#결측값 제거 후 데이터 프레임 정보\n",
        "\n",
        "print('<spec_loan data>')\n",
        "print('크기 : ', len(spec_loan), '*', len(spec_loan.columns))\n",
        "print('변수명 : ', spec_loan.columns)\n",
        "print('고유한 유저의 수 : ', len(spec_loan['user_id'].unique()))\n",
        "print('고유한 대출신청서의 수 : ', len(spec_loan['application_id'].unique()))"
      ],
      "metadata": {
        "colab": {
          "base_uri": "https://localhost:8080/"
        },
        "id": "tiD6EOSVfqdi",
        "outputId": "40e6b537-8277-4f01-b641-bafec52d4496"
      },
      "execution_count": null,
      "outputs": [
        {
          "output_type": "stream",
          "name": "stdout",
          "text": [
            "<spec_loan data>\n",
            "크기 :  13519868 * 20\n",
            "변수명 :  Index(['application_id', 'user_id', 'age', 'gender', 'insert_time',\n",
            "       'credit_score', 'yearly_income', 'income_type', 'company_enter_month',\n",
            "       'employment_type', 'houseown_type', 'desired_amount', 'purpose',\n",
            "       'existing_loan_cnt', 'loanapply_insert_time', 'bank_id', 'product_id',\n",
            "       'loan_limit', 'loan_rate', 'is_applied'],\n",
            "      dtype='object')\n",
            "고유한 유저의 수 :  317458\n",
            "고유한 대출신청서의 수 :  968727\n"
          ]
        }
      ]
    },
    {
      "cell_type": "code",
      "source": [
        "#결측값 확인\n",
        "\n",
        "print('Spec_Loan data')\n",
        "print(spec_loan.isna().sum())\n",
        "print('')"
      ],
      "metadata": {
        "id": "RcrqycKSBiBe"
      },
      "execution_count": null,
      "outputs": []
    },
    {
      "cell_type": "markdown",
      "source": [
        "##1.3. 3~5월 데이터와 6월 데이터를 분리"
      ],
      "metadata": {
        "id": "yCblhhowuZYp"
      }
    },
    {
      "cell_type": "markdown",
      "source": [
        "###1.3.1. spec_loan 데이터의 분리"
      ],
      "metadata": {
        "id": "Rh4Usjsxw9LS"
      }
    },
    {
      "cell_type": "code",
      "source": [
        "from datetime import datetime #datetime 함수 사용\n",
        "\n",
        "spec_loan['loanapply_insert_time'] = pd.to_datetime(spec_loan['loanapply_insert_time'], format = '%Y-%m-%d %H:%M:%S')\n",
        "#spec_loan의 loanapply_insert_time 변수를 날짜형 변수로 변환\n",
        "\n",
        "spec_loan_345 = spec_loan[spec_loan['loanapply_insert_time'] < datetime(2022, 6, 1, 0, 0, 0)]\n",
        "spec_loan_6 = spec_loan[spec_loan['loanapply_insert_time'] >= datetime(2022, 6, 1, 0, 0, 0)]\n",
        "#loanapply_insert_time을 기준으로 spec_loan 데이터를 분리"
      ],
      "metadata": {
        "id": "fvb6L7uFuggY"
      },
      "execution_count": null,
      "outputs": []
    },
    {
      "cell_type": "code",
      "source": [
        "print('spec_loan_345의 크기 : ', len(spec_loan_345), '*', len(spec_loan_345.columns))\n",
        "print('spec_loan_345에 포함된 6월 데이터의 수 : ', sum(spec_loan_345['loanapply_insert_time'] >= datetime(2022, 6, 1, 0, 0, 0)))\n",
        "print('고유한 유저의 수 : ', len(spec_loan_345['user_id'].unique()))\n",
        "print('고유한 대출신청서의 수 : ', len(spec_loan_345['application_id'].unique()))\n",
        "print('')\n",
        "print('날짜순으로 정렬하여 6월 데이터 포함 안 된 것 확인')\n",
        "spec_loan_345['loanapply_insert_time'].sort_values()"
      ],
      "metadata": {
        "id": "vpAP8iWIyGgV"
      },
      "execution_count": null,
      "outputs": []
    },
    {
      "cell_type": "code",
      "source": [
        "spec_loan_345.isna().sum()"
      ],
      "metadata": {
        "id": "LqUne56FF4Rz"
      },
      "execution_count": null,
      "outputs": []
    },
    {
      "cell_type": "code",
      "source": [
        "print('spec_loan_6의 크기 : ', len(spec_loan_6), '*', len(spec_loan_6.columns))\n",
        "print('spec_loan_6에 포함된 3~5월 데이터의 수 : ', sum(spec_loan_6['loanapply_insert_time'] < datetime(2022, 6, 1, 0, 0, 0)))\n",
        "print('고유한 유저의 수 : ', len(spec_loan_6['user_id'].unique()))\n",
        "print('고유한 대출신청서의 수 : ', len(spec_loan_6['application_id'].unique()))\n",
        "print('')\n",
        "print('날짜순으로 정렬하여 3~5월 데이터 포함 안 된 것 확인')\n",
        "spec_loan_6['loanapply_insert_time'].sort_values()"
      ],
      "metadata": {
        "id": "W4eYoiJj1eJK"
      },
      "execution_count": null,
      "outputs": []
    },
    {
      "cell_type": "markdown",
      "source": [
        "###1.3.2. log 데이터의 분리"
      ],
      "metadata": {
        "id": "el8GCRLo1wNb"
      }
    },
    {
      "cell_type": "code",
      "source": [
        "log['timestamp'] = pd.to_datetime(log['timestamp'], format = '%Y-%m-%d %H:%M:%S')\n",
        "#spec_loan의 timestamp 변수를 날짜형 변수로 변환\n",
        "\n",
        "log_345 = log[log['timestamp'] < datetime(2022, 6, 1, 0, 0, 0)]\n",
        "log_6 = log[log['timestamp'] >= datetime(2022, 6, 1, 0, 0, 0)]\n",
        "#timestamp를 기준으로 log 데이터를 분리"
      ],
      "metadata": {
        "id": "mrYuMs1Z2cJF"
      },
      "execution_count": null,
      "outputs": []
    },
    {
      "cell_type": "code",
      "source": [
        "print('log_345의 크기 : ', len(log_345), '*', len(log_345.columns))\n",
        "print('log_345에 포함된 6월 데이터의 수 : ', sum(log_345['timestamp'] >= datetime(2022, 6, 1, 0, 0, 0)))\n",
        "print('고유한 유저의 수 : ', len(log_345['user_id'].unique()))\n",
        "print('')\n",
        "print('날짜순으로 정렬하여 6월 데이터 포함 안 된 것 확인')\n",
        "log_345['timestamp'].sort_values()"
      ],
      "metadata": {
        "id": "u6fCLWQZ3QN0"
      },
      "execution_count": null,
      "outputs": []
    },
    {
      "cell_type": "code",
      "source": [
        "print('log_6의 크기 : ', len(log_6), '*', len(log_6.columns))\n",
        "print('log_6에 포함된 3~5월 데이터의 수 : ', sum(log_6['timestamp'] < datetime(2022, 6, 1, 0, 0, 0)))\n",
        "print('고유한 유저의 수 : ', len(log_6['user_id'].unique()))\n",
        "print('')\n",
        "print('날짜순으로 정렬하여 6월 데이터 포함 안 된 것 확인')\n",
        "log_6['timestamp'].sort_values()"
      ],
      "metadata": {
        "id": "ilQLagTp3cRC"
      },
      "execution_count": null,
      "outputs": []
    },
    {
      "cell_type": "markdown",
      "source": [
        "##1.4. 한 번이라도 대출을 신청한 경우를 표시"
      ],
      "metadata": {
        "id": "6YQN1maMqEqr"
      }
    },
    {
      "cell_type": "code",
      "source": [
        "spec_loan_345_applied = spec_loan_345[spec_loan_345['is_applied'] == 1] #대출이 신청된 경우\n",
        "spec_loan_345_denied = spec_loan_345[spec_loan_345['is_applied'] == 0] #대출이 신청되지 않은 경우\n",
        "\n",
        "print('3~5월에 대출이 신청된 경우는 총 ', len(spec_loan_345_applied), '번')\n",
        "print('3~5월에 대출이 거절된 경우는 총 ', len(spec_loan_345_denied), '번')"
      ],
      "metadata": {
        "id": "UHqsqyWVqKYq"
      },
      "execution_count": null,
      "outputs": []
    },
    {
      "cell_type": "code",
      "source": [
        "spec_loan_345_applied_unique = spec_loan_345_applied.drop_duplicates(['user_id']) #대출이 신청된 경우에서 고유한 user_id만 남기기\n",
        "spec_loan_345_denied_unique = spec_loan_345_denied.drop_duplicates(['user_id']) #대출이 신청되지 않은 경우에서 고유한 user_id만 남기기\n",
        "\n",
        "appid = spec_loan_345_applied_unique['user_id'].unique() #대출이 신청된 경우의 user_id를 저장, 즉 대출을 한 번이라도 신청한 유저들\n",
        "spec_loan_345_denied_unique_real = spec_loan_345_denied_unique[spec_loan_345_denied_unique['user_id'].isin(appid) == False] \n",
        "#대출이 신청되지 않은 경우는, 대출을 신청한 유저가 해당 대출상품을 신청하지 않은 경우와, 대출을 아예 신청하지 않은 유저인 경우를 포함하고 있음\n",
        "#대출을 아예 신청하지 않은 유저만을 분리해내기 위해서, appid에 저장된 user_id에 포함되지 않은 user_id의 행들을 남겼음\n",
        "\n",
        "print('3~5월에 한 번이라도 대출을 신청한 유저의 수 : ', len(spec_loan_345_applied_unique))\n",
        "print('3~5월에 한 번도 대출을 신청하지 않은 유저의 수 : ', len(spec_loan_345_denied_unique_real))"
      ],
      "metadata": {
        "id": "V6A9RLyUq7-H"
      },
      "execution_count": null,
      "outputs": []
    },
    {
      "cell_type": "code",
      "source": [
        "user_applied = pd.concat([spec_loan_345_applied_unique, spec_loan_345_denied_unique_real])[['user_id', 'is_applied']]\n",
        "user_applied = user_applied.rename(columns={'is_applied' : 'applied_once'}) #기존의 is_applied와 구분하기 위해 칼럼명을 applied_once로 변경\n",
        "user_applied #유저별로 한 번이라도 대출을 신청한 사람인지, 그렇지 않은 사람인지 구분하는 데이터프레임"
      ],
      "metadata": {
        "id": "KMmDdymhbZ7Z"
      },
      "execution_count": null,
      "outputs": []
    },
    {
      "cell_type": "code",
      "source": [
        "#applied_once를 원 데이터프레임에 칼럼으로 추가\n",
        "\n",
        "spec_loan_345 = pd.merge(spec_loan_345, user_applied, left_on='user_id', right_on='user_id', how='left')\n",
        "spec_loan_345 "
      ],
      "metadata": {
        "id": "N8LdeT5xb-FJ"
      },
      "execution_count": null,
      "outputs": []
    },
    {
      "cell_type": "code",
      "source": [
        "#로그 데이터에도 칼럼 추가해주기\n",
        "\n",
        "log_345 = pd.merge(log_345, user_applied, left_on='user_id', right_on='user_id', how='left')\n",
        "log_345 "
      ],
      "metadata": {
        "id": "rMMtNGZYrYek"
      },
      "execution_count": null,
      "outputs": []
    },
    {
      "cell_type": "markdown",
      "source": [
        "##1.5. log data를 유저별 행동별 횟수 데이터로 변환"
      ],
      "metadata": {
        "id": "Gz4Kwy3lrBtW"
      }
    },
    {
      "cell_type": "markdown",
      "source": [
        "###1.5.1. log data를 유저별 행동별 횟수 데이터로 변환"
      ],
      "metadata": {
        "id": "weZw_1W38x3H"
      }
    },
    {
      "cell_type": "code",
      "source": [
        "log_user_345 = log_345[['user_id', 'event']] #user_id와 event만 저장\n",
        "log_user_345 = pd.DataFrame(log_user_345.groupby(['user_id', 'event']).size().unstack()) #user_id별 event별 개수로 데이터프레임 전환\n",
        "log_user_345 = log_user_345.fillna(0) #행동 횟수가 결측치인 경우 해당 행동을 하지 않은 것으로 간주하여 0으로 처리\n",
        "\n",
        "#6월 log 데이터에서도 동일한 과정 적용\n",
        "log_user_6 = log_6[['user_id', 'event']] #user_id와 event만 저장\n",
        "log_user_6 = pd.DataFrame(log_user_6.groupby(['user_id', 'event']).size().unstack()) #user_id별 event별 개수로 데이터프레임 전환\n",
        "log_user_6 = log_user_6.fillna(0) #행동 횟수가 결측치인 경우 해당 행동을 하지 않은 것으로 간주하여 0으로 처리"
      ],
      "metadata": {
        "id": "qBnO80lCrM_b"
      },
      "execution_count": null,
      "outputs": []
    },
    {
      "cell_type": "code",
      "source": [
        "print('<log_user_345>')\n",
        "print(len(log_user_345), '명의 유저들의', len(log_user_345.columns), '개 행동의 횟수')\n",
        "print('')\n",
        "print(log_user_345)"
      ],
      "metadata": {
        "id": "_7B3GKPTtj53"
      },
      "execution_count": null,
      "outputs": []
    },
    {
      "cell_type": "code",
      "source": [
        "print('<log_user_6>')\n",
        "print(len(log_user_6), '명의 유저들의', len(log_user_6.columns), '개 행동의 횟수')\n",
        "print('')\n",
        "print(log_user_6)"
      ],
      "metadata": {
        "id": "UVM5Cvk74r_n"
      },
      "execution_count": null,
      "outputs": []
    },
    {
      "cell_type": "markdown",
      "source": [
        "###1.5.2. 3~5월의 유저별 로그 데이터에 대해서는, 유저별 대출신청여부 칼럼을 추가"
      ],
      "metadata": {
        "id": "-7kQdL-begDl"
      }
    },
    {
      "cell_type": "code",
      "source": [
        "#3~5월의 유저별 로그 데이터에 대해서는, 유저별 대출신청여부(한 번이라도 신청 여부) 칼럼을 추가\n",
        "log_user_345 = pd.merge(log_user_345, user_applied, left_on='user_id', right_on='user_id', how='left')\n",
        "log_user_345 #applied_once를 원 데이터프레임에 칼럼으로 추가\n",
        "log_user_345"
      ],
      "metadata": {
        "id": "mX8VhVogdwN7"
      },
      "execution_count": null,
      "outputs": []
    },
    {
      "cell_type": "code",
      "source": [
        "log_user_345['applied_once'].isna().value_counts()"
      ],
      "metadata": {
        "id": "xWj7FpcueLA8"
      },
      "execution_count": null,
      "outputs": []
    },
    {
      "cell_type": "code",
      "source": [
        "k = log_user_345['user_id']\n",
        "print('유저_스펙 데이터에서 로그 데이터를 매칭시킬 수 없는 유저들의 수 : ', len(spec_loan_345.drop_duplicates(['user_id'])[spec_loan_345.drop_duplicates(['user_id'])['user_id'].isin(k) == False]))"
      ],
      "metadata": {
        "id": "Lp4ChNt-eYOy"
      },
      "execution_count": null,
      "outputs": []
    },
    {
      "cell_type": "markdown",
      "source": [
        "##1.6. 데이터 저장"
      ],
      "metadata": {
        "id": "dKuZMRf3BmLj"
      }
    },
    {
      "cell_type": "code",
      "source": [
        "spec_loan_345.to_csv('spec_loan_345_final.csv', index = False)\n",
        "spec_loan_6.to_csv('spec_loan_6_final.csv', index = False)\n",
        "spec_loan.to_csv('spec_loan_final.csv', index = False)\n",
        "\n",
        "log_user_345.to_csv('log_user_345_final.csv', index=False) \n",
        "log_user_6.to_csv('log_user_6_final.csv', index=False) "
      ],
      "metadata": {
        "id": "PQ7fpfRyBBEx"
      },
      "execution_count": null,
      "outputs": []
    },
    {
      "cell_type": "markdown",
      "source": [
        "#2. 탐색적 데이터 분석(EDA)"
      ],
      "metadata": {
        "id": "vRTIri9Y7dDq"
      }
    },
    {
      "cell_type": "markdown",
      "source": [
        "##2.1. Spec data 탐색"
      ],
      "metadata": {
        "id": "gJ5TA9sJ9H33"
      }
    },
    {
      "cell_type": "markdown",
      "source": [
        "###2.1.1. Spec data와 대출 금리의 상관관계"
      ],
      "metadata": {
        "id": "wz6otiLw9Ovo"
      }
    },
    {
      "cell_type": "code",
      "source": [
        "import matplotlib.pyplot as plt #matplotlib.pyplot 라이브러리 사용"
      ],
      "metadata": {
        "id": "4p4XnRsOVMGU"
      },
      "execution_count": null,
      "outputs": []
    },
    {
      "cell_type": "code",
      "source": [
        "#연령별 평균 대출금리\n",
        "\n",
        "spec_loan.groupby('age')['loan_rate'].mean().plot()\n",
        "plt.title('Average loan rate for age')\n",
        "plt.xlabel('age')\n",
        "plt.ylabel('average loan rate')\n",
        "plt.show()"
      ],
      "metadata": {
        "id": "2mPCKhmUTXes"
      },
      "execution_count": null,
      "outputs": []
    },
    {
      "cell_type": "code",
      "source": [
        "#성별별 평균 대출금리\n",
        "\n",
        "spec_loan.groupby('gender')['loan_rate'].mean().plot(kind = 'bar')\n",
        "plt.title('Average loan rate for gender')\n",
        "plt.xlabel('gender')\n",
        "plt.ylabel('average loan rate')\n",
        "plt.show()"
      ],
      "metadata": {
        "id": "O5FM-A2c9e5F"
      },
      "execution_count": null,
      "outputs": []
    },
    {
      "cell_type": "code",
      "source": [
        "#신용점수별 평균 대출금리\n",
        "\n",
        "plt.plot(spec_loan['credit_score'].dropna().unique(), spec_loan.groupby('credit_score')['loan_rate'].mean(), '.')\n",
        "plt.title('Average loan rate for credit score')\n",
        "plt.xlabel('credit score')\n",
        "plt.ylabel('average loan rate')\n",
        "plt.show()"
      ],
      "metadata": {
        "id": "Q2RMxvxO7g50"
      },
      "execution_count": null,
      "outputs": []
    },
    {
      "cell_type": "code",
      "source": [
        "#소득별 평균 대출금리\n",
        "\n",
        "import numpy as np #numpy 라이브러리 사용\n",
        "\n",
        "plt.plot(np.log(spec_loan['yearly_income'].sort_values().dropna().unique()), spec_loan.groupby('yearly_income')['loan_rate'].mean(), '.')\n",
        "plt.title('Average loan rate for yearly_income')\n",
        "plt.xlabel('yearly_income')\n",
        "plt.ylabel('average loan rate')\n",
        "plt.show()"
      ],
      "metadata": {
        "id": "U0zk-MeZW5i7"
      },
      "execution_count": null,
      "outputs": []
    },
    {
      "cell_type": "code",
      "source": [
        "#소득형태별 평균 대출금리\n",
        "\n",
        "spec_loan.groupby('income_type')['loan_rate'].mean().sort_values().plot(kind = 'bar')\n",
        "plt.title('Average loan rate for income_type')\n",
        "plt.xlabel('income_type')\n",
        "plt.ylabel('average loan rate')\n",
        "plt.show()"
      ],
      "metadata": {
        "id": "VjUXQvP4XJ-E"
      },
      "execution_count": null,
      "outputs": []
    },
    {
      "cell_type": "code",
      "source": [
        "#고용형태별 평균 대출금리\n",
        "\n",
        "spec_loan.groupby('employment_type')['loan_rate'].mean().sort_values().plot(kind = 'bar');\n",
        "plt.title('Average loan rate for employment_type')\n",
        "plt.xlabel('employment_type')\n",
        "plt.ylabel('average loan rate')\n",
        "plt.show()"
      ],
      "metadata": {
        "id": "Zd4pGnP-XeFu"
      },
      "execution_count": null,
      "outputs": []
    },
    {
      "cell_type": "code",
      "source": [
        "#주거형태별 평균 대출금리\n",
        "\n",
        "spec_loan.groupby('houseown_type')['loan_rate'].mean().sort_values().plot(kind = 'bar');\n",
        "plt.title('Average loan rate for houseown_type')\n",
        "plt.xlabel('houseown_type')\n",
        "plt.ylabel('average loan rate')\n",
        "plt.show()"
      ],
      "metadata": {
        "id": "QdbaVphvXuk8"
      },
      "execution_count": null,
      "outputs": []
    },
    {
      "cell_type": "code",
      "source": [
        "#대출희망금액별 평균 대출금리\n",
        "\n",
        "plt.plot(np.log(spec_loan['desired_amount'].sort_values().dropna().unique()), spec_loan.groupby('desired_amount')['loan_rate'].mean(), '.')\n",
        "plt.title('Average loan rate for desired_amount')\n",
        "plt.xlabel('desired_amount')\n",
        "plt.ylabel('average loan rate')\n",
        "plt.show()"
      ],
      "metadata": {
        "id": "CVRIXxexX4dC"
      },
      "execution_count": null,
      "outputs": []
    },
    {
      "cell_type": "code",
      "source": [
        "#대출목적별 평균 대출금리\n",
        "\n",
        "spec_loan.groupby('purpose')['loan_rate'].mean().sort_values().plot(kind = 'bar');\n",
        "plt.title('Average loan rate for purpose')\n",
        "plt.xlabel('purpose')\n",
        "plt.ylabel('average loan rate')\n",
        "plt.show()"
      ],
      "metadata": {
        "id": "dXitr0CbZ_6L"
      },
      "execution_count": null,
      "outputs": []
    },
    {
      "cell_type": "code",
      "source": [
        "#기존 대출 개수별 평균 대출금리\n",
        "\n",
        "plt.plot(spec_loan['existing_loan_cnt'].sort_values().dropna().unique(), spec_loan.groupby('existing_loan_cnt')['loan_rate'].mean(), '.')\n",
        "plt.title('Average loan rate for existing_loan_cnt')\n",
        "plt.xlabel('existing_loan_cnt')\n",
        "plt.ylabel('average loan rate')\n",
        "plt.show()"
      ],
      "metadata": {
        "id": "g796hQL9bmA0"
      },
      "execution_count": null,
      "outputs": []
    },
    {
      "cell_type": "markdown",
      "source": [
        "###2.1.2. Spec 데이터와 대출한도의 상관관계"
      ],
      "metadata": {
        "id": "kJrDJNzYkMXj"
      }
    },
    {
      "cell_type": "code",
      "source": [
        "#연령별 평균 대출한도\n",
        "\n",
        "spec_loan.groupby('age')['loan_limit'].mean().plot()\n",
        "plt.title('Average loan limit for age')\n",
        "plt.xlabel('age')\n",
        "plt.ylabel('average loan limit')\n",
        "plt.show()"
      ],
      "metadata": {
        "id": "HdCyGIQmkMwr"
      },
      "execution_count": null,
      "outputs": []
    },
    {
      "cell_type": "code",
      "source": [
        "#성별별 평균 대출한도\n",
        "\n",
        "spec_loan.groupby('gender')['loan_limit'].mean().plot(kind = 'bar')\n",
        "plt.title('Average loan limit for gender')\n",
        "plt.xlabel('gender')\n",
        "plt.ylabel('average loan limit')\n",
        "plt.show()"
      ],
      "metadata": {
        "id": "pRcW4gyHkMws"
      },
      "execution_count": null,
      "outputs": []
    },
    {
      "cell_type": "code",
      "source": [
        "#신용점수별 평균 대출한도\n",
        "\n",
        "plt.plot(spec_loan['credit_score'].dropna().unique(), spec_loan.groupby('credit_score')['loan_limit'].mean(), '.')\n",
        "plt.title('Average loan limit for credit score')\n",
        "plt.xlabel('credit score')\n",
        "plt.ylabel('average loan limit')\n",
        "plt.show()"
      ],
      "metadata": {
        "id": "kP7CgnqmkMws"
      },
      "execution_count": null,
      "outputs": []
    },
    {
      "cell_type": "code",
      "source": [
        "#소득별 평균 대출한도\n",
        "\n",
        "import numpy as np #numpy 라이브러리 사용\n",
        "\n",
        "plt.plot(np.log(spec_loan['yearly_income'].sort_values().dropna().unique()), spec_loan.groupby('yearly_income')['loan_limit'].mean(), '.')\n",
        "plt.title('Average loan limit for yearly_income')\n",
        "plt.xlabel('yearly_income')\n",
        "plt.ylabel('average loan limit')\n",
        "plt.show()"
      ],
      "metadata": {
        "id": "oGDnySIPkMwt"
      },
      "execution_count": null,
      "outputs": []
    },
    {
      "cell_type": "code",
      "source": [
        "#소득형태별 평균 대출한도\n",
        "\n",
        "spec_loan.groupby('income_type')['loan_limit'].mean().sort_values().plot(kind = 'bar')\n",
        "plt.title('Average loan limit for income_type')\n",
        "plt.xlabel('income_type')\n",
        "plt.ylabel('average loan limit')\n",
        "plt.show()"
      ],
      "metadata": {
        "id": "j5YZ-OeZkMwu"
      },
      "execution_count": null,
      "outputs": []
    },
    {
      "cell_type": "code",
      "source": [
        "#고용형태별 평균 대출한도\n",
        "\n",
        "spec_loan.groupby('employment_type')['loan_limit'].mean().sort_values().plot(kind = 'bar');\n",
        "plt.title('Average loan limit for employment_type')\n",
        "plt.xlabel('employment_type')\n",
        "plt.ylabel('average loan limit')\n",
        "plt.show()"
      ],
      "metadata": {
        "id": "n7kkk1KwkMwu"
      },
      "execution_count": null,
      "outputs": []
    },
    {
      "cell_type": "code",
      "source": [
        "#주거형태별 평균 대출한도\n",
        "\n",
        "spec_loan.groupby('houseown_type')['loan_limit'].mean().sort_values().plot(kind = 'bar');\n",
        "plt.title('Average loan limit for houseown_type')\n",
        "plt.xlabel('houseown_type')\n",
        "plt.ylabel('average loan limit')\n",
        "plt.show()"
      ],
      "metadata": {
        "id": "wDIUsovakMwv"
      },
      "execution_count": null,
      "outputs": []
    },
    {
      "cell_type": "code",
      "source": [
        "#대출희망금액별 평균 대출한도\n",
        "\n",
        "plt.plot(np.log(spec_loan['desired_amount'].sort_values().dropna().unique()), np.log(spec_loan.groupby('desired_amount')['loan_limit'].mean()), '.')\n",
        "plt.title('Average loan limit for desired_amount')\n",
        "plt.xlabel('desired_amount')\n",
        "plt.ylabel('average loan limit')\n",
        "plt.show()"
      ],
      "metadata": {
        "id": "nZTTy0BukMww"
      },
      "execution_count": null,
      "outputs": []
    },
    {
      "cell_type": "code",
      "source": [
        "#대출목적별 평균 대출한도\n",
        "\n",
        "spec_loan.groupby('purpose')['loan_limit'].mean().sort_values().plot(kind = 'bar');\n",
        "plt.title('Average loan limit for purpose')\n",
        "plt.xlabel('purpose')\n",
        "plt.ylabel('average loan limit')\n",
        "plt.show()"
      ],
      "metadata": {
        "id": "MMTHHY6UkMww"
      },
      "execution_count": null,
      "outputs": []
    },
    {
      "cell_type": "code",
      "source": [
        "#기존 대출 개수별 평균 대출한도\n",
        "\n",
        "plt.plot(spec_loan['existing_loan_cnt'].sort_values().dropna().unique(), spec_loan.groupby('existing_loan_cnt')['loan_limit'].mean(), '.')\n",
        "plt.title('Average loan limit for existing_loan_cnt')\n",
        "plt.xlabel('existing_loan_limit')\n",
        "plt.ylabel('average loan limit')\n",
        "plt.show()"
      ],
      "metadata": {
        "id": "sGpR6enokMwx"
      },
      "execution_count": null,
      "outputs": []
    },
    {
      "cell_type": "code",
      "source": [
        "#기존 대출금액별 평균 대출한도\n",
        "\n",
        "plt.plot(np.log(spec_loan['existing_loan_amt'].sort_values().dropna().unique()), np.log(spec_loan.groupby('existing_loan_amt')['loan_limit'].mean()), '.')\n",
        "plt.title('Average loan limit for existing_loan_amt')\n",
        "plt.xlabel('existing_loan_amt')\n",
        "plt.ylabel('average loan limit')\n",
        "plt.show()"
      ],
      "metadata": {
        "id": "KttTMtjLkMwz"
      },
      "execution_count": null,
      "outputs": []
    },
    {
      "cell_type": "code",
      "source": [],
      "metadata": {
        "id": "ZrbwwU7poV00"
      },
      "execution_count": null,
      "outputs": []
    },
    {
      "cell_type": "markdown",
      "source": [
        "###2.1.3. Spec 데이터와 대출 신청 여부"
      ],
      "metadata": {
        "id": "SWUMLr9EobHv"
      }
    },
    {
      "cell_type": "code",
      "source": [
        "#applied_once를 기준으로 대출신청률을 알아보기\n",
        "#동일한 유저가 과대반영되는 것을 막기 위하여 user_id별로 고유한 행만 남기기\n",
        "spec_loan_345_user = spec_loan_345.drop_duplicates(['user_id'])\n",
        "print('고유한 유저의 수 : ', len(spec_loan_345_user))"
      ],
      "metadata": {
        "id": "FCChah4vohn7"
      },
      "execution_count": null,
      "outputs": []
    },
    {
      "cell_type": "code",
      "source": [
        "#대출 신청 여부와 연령\n",
        "\n",
        "spec_loan_345_user.groupby('age')['applied_once'].mean().plot();\n",
        "plt.title('apply rate for age')\n",
        "plt.xlabel('age')\n",
        "plt.ylabel('apply rate')\n",
        "plt.show()"
      ],
      "metadata": {
        "id": "pfq7RxBagDNM"
      },
      "execution_count": null,
      "outputs": []
    },
    {
      "cell_type": "code",
      "source": [
        "#대출 신청 여부와 성별\n",
        "\n",
        "spec_loan_345_user.groupby('applied_once')['gender'].mean().plot(kind = 'bar')\n",
        "plt.title('apply rate for gender')\n",
        "plt.xlabel('gender')\n",
        "plt.ylabel('apply rate')"
      ],
      "metadata": {
        "id": "kHFw7i1Bhjas"
      },
      "execution_count": null,
      "outputs": []
    },
    {
      "cell_type": "code",
      "source": [
        "#대출 신청 여부와 신용점수\n",
        "\n",
        "spec_loan_345_user.groupby('applied_once')['credit_score'].mean().plot(kind = 'bar')\n",
        "plt.title('credit score and apply')\n",
        "plt.ylabel('credit score')\n",
        "plt.xlabel('apply once')\n",
        "plt.show()"
      ],
      "metadata": {
        "id": "iF59PKme3GVW"
      },
      "execution_count": null,
      "outputs": []
    },
    {
      "cell_type": "code",
      "source": [
        "#대출 신청 여부와 연 소득\n",
        "\n",
        "spec_loan_345_user.groupby('applied_once')['yearly_income'].mean().plot(kind = 'bar')\n",
        "plt.title('Average apply rate for yearly_income')\n",
        "plt.ylabel('yearly_income')\n",
        "plt.xlabel('apply')\n",
        "plt.show()"
      ],
      "metadata": {
        "id": "-mKvaQhUjRKK"
      },
      "execution_count": null,
      "outputs": []
    },
    {
      "cell_type": "code",
      "source": [
        "#소득형태별 대출신청률\n",
        "\n",
        "spec_loan_345_user.groupby('purpose')['applied_once'].mean().sort_values().plot(kind = 'bar');\n",
        "plt.title('Average apply rate for purpose')\n",
        "plt.xlabel('purpose')\n",
        "plt.ylabel('average apply rate')\n",
        "plt.show()"
      ],
      "metadata": {
        "id": "vOHrOQPsntw9"
      },
      "execution_count": null,
      "outputs": []
    },
    {
      "cell_type": "code",
      "source": [
        "#고용형태별 대출신청률\n",
        "\n",
        "spec_loan_345_user.groupby('purpose')['applied_once'].mean().sort_values().plot(kind = 'bar');\n",
        "plt.title('Average apply rate for purpose')\n",
        "plt.xlabel('purpose')\n",
        "plt.ylabel('average apply rate')\n",
        "plt.show()"
      ],
      "metadata": {
        "id": "L6wXUkHim3EC"
      },
      "execution_count": null,
      "outputs": []
    },
    {
      "cell_type": "code",
      "source": [
        "#주거형태별 대출신청률\n",
        "\n",
        "spec_loan_345_user.groupby('purpose')['applied_once'].mean().sort_values().plot(kind = 'bar');\n",
        "plt.title('Average apply rate for purpose')\n",
        "plt.xlabel('purpose')\n",
        "plt.ylabel('average apply rate')\n",
        "plt.show()"
      ],
      "metadata": {
        "id": "Cz8WdcOvn1ws"
      },
      "execution_count": null,
      "outputs": []
    },
    {
      "cell_type": "code",
      "source": [
        "#희망대출금액별 대출신청률\n",
        "\n",
        "spec_loan_345_user.groupby('applied_once')['desired_amount'].mean().sort_values().plot(kind = 'bar');\n",
        "plt.title('Average apply rate for purpose')\n",
        "plt.xlabel('apply')\n",
        "plt.ylabel('desired_amount')\n",
        "plt.show()"
      ],
      "metadata": {
        "id": "5OZYWDJ-n3zZ"
      },
      "execution_count": null,
      "outputs": []
    },
    {
      "cell_type": "code",
      "source": [
        "#대출목적별 대출신청률\n",
        "\n",
        "spec_loan_345_user.groupby('purpose')['applied_once'].mean().sort_values().plot(kind = 'bar');\n",
        "plt.title('Average apply rate for purpose')\n",
        "plt.xlabel('purpose')\n",
        "plt.ylabel('average apply rate')\n",
        "plt.show()"
      ],
      "metadata": {
        "id": "1OR9JogVnwyp"
      },
      "execution_count": null,
      "outputs": []
    },
    {
      "cell_type": "code",
      "source": [
        "#기존대출횟수과 대출신청률\n",
        "\n",
        "spec_loan_345_user.groupby('applied_once')['existing_loan_cnt'].mean().plot(kind = 'bar')\n",
        "plt.xlabel('apply')\n",
        "plt.ylabel('existing_loan_cnt')\n",
        "plt.show()"
      ],
      "metadata": {
        "id": "hiO3lLzHoFK5"
      },
      "execution_count": null,
      "outputs": []
    },
    {
      "cell_type": "code",
      "source": [
        "#기존대출금액과 대출신청률\n",
        "\n",
        "spec_loan_345_user.groupby('applied_once')['existing_loan_amt'].mean().plot(kind = 'bar')\n",
        "plt.xlabel('apply')\n",
        "plt.ylabel('existing_loan_amt')\n",
        "plt.show()"
      ],
      "metadata": {
        "id": "KQfPRL7xoOt6"
      },
      "execution_count": null,
      "outputs": []
    },
    {
      "cell_type": "markdown",
      "source": [
        "##2.2. Loan data 탐색"
      ],
      "metadata": {
        "id": "94i80djXpCLe"
      }
    },
    {
      "cell_type": "markdown",
      "source": [
        "###2.2.1. 대출금리 및 대출한도의 신청여부와의 상관관계"
      ],
      "metadata": {
        "id": "pMfWsTolso2k"
      }
    },
    {
      "cell_type": "code",
      "source": [
        "#대출신청률과 대출금리\n",
        "\n",
        "spec_loan_345.groupby('is_applied')['loan_rate'].mean().plot(kind = 'bar')\n",
        "plt.xlabel('applied')\n",
        "plt.ylabel('loan rate')\n",
        "plt.show()"
      ],
      "metadata": {
        "id": "DmY5R57hpEKI"
      },
      "execution_count": null,
      "outputs": []
    },
    {
      "cell_type": "code",
      "source": [
        "#대출신청률과 대출한도\n",
        "\n",
        "spec_loan_345.groupby('is_applied')['loan_limit'].mean().plot(kind = 'bar')\n",
        "plt.xlabel('applied')\n",
        "plt.ylabel('loan limit')\n",
        "plt.show()"
      ],
      "metadata": {
        "id": "vp3BXgzepyqt"
      },
      "execution_count": null,
      "outputs": []
    },
    {
      "cell_type": "markdown",
      "source": [
        "###2.2.2. 은행 및 대출상품유형별 대출 신청률"
      ],
      "metadata": {
        "id": "tld22maxsrfQ"
      }
    },
    {
      "cell_type": "code",
      "source": [
        "#대출신청률과 은행\n",
        "\n",
        "spec_loan_345['bank_id'] = spec_loan_345['bank_id'].astype('category')\n",
        "spec_loan_345.groupby('bank_id')['is_applied'].mean().sort_values(ascending = False).plot()\n",
        "plt.title('Average apply rate for bank')\n",
        "plt.xlabel('bank_id')\n",
        "plt.ylabel('average apply rate')\n",
        "plt.show()"
      ],
      "metadata": {
        "id": "Pst9E3clp74H"
      },
      "execution_count": null,
      "outputs": []
    },
    {
      "cell_type": "code",
      "source": [
        "#대출신청률과 대출상품\n",
        "\n",
        "spec_loan_345['product_id'] = spec_loan_345['product_id'].astype('category')\n",
        "spec_loan_345.groupby('product_id')['is_applied'].mean().sort_values(ascending = False).plot()\n",
        "plt.title('Average apply rate for product')\n",
        "plt.xlabel('product_id')\n",
        "plt.ylabel('average apply rate')\n",
        "plt.show()"
      ],
      "metadata": {
        "id": "rBFUvSgyqZ4S"
      },
      "execution_count": null,
      "outputs": []
    },
    {
      "cell_type": "markdown",
      "source": [
        "##2.3. Log data 탐색"
      ],
      "metadata": {
        "id": "sd7eRAbyqhvV"
      }
    },
    {
      "cell_type": "markdown",
      "source": [
        "###2.3.1. 대출 신청 여부에 따른 행동별 횟수 차이"
      ],
      "metadata": {
        "id": "caakEdrKsxLc"
      }
    },
    {
      "cell_type": "code",
      "source": [
        "(log_345[log_345['applied_once'] == 1]['event'].value_counts(normalize = True).sort_index() - log_345[log_345['applied_once'] == 0]['event'].value_counts(normalize = True).sort_index()).sort_values().plot(kind = 'bar')"
      ],
      "metadata": {
        "id": "K_DCbBlsqlP4"
      },
      "execution_count": null,
      "outputs": []
    },
    {
      "cell_type": "markdown",
      "source": [
        "##2.4. EDA 기반 추가 변수 조작"
      ],
      "metadata": {
        "id": "Zm4XUnukcwHW"
      }
    },
    {
      "cell_type": "markdown",
      "source": [
        "#3. 예측 모델 훈련"
      ],
      "metadata": {
        "id": "Tx2qdEp4t_8r"
      }
    },
    {
      "cell_type": "code",
      "source": [
        "import pandas as pd\n",
        "\n",
        "spec_loan_345 = pd.read_csv('/content/drive/MyDrive/Modeling Project 2022/제출할 것만 최종정리/spec_loan_345_final.csv')\n",
        "log_user_345 = pd.read_csv('/content/drive/MyDrive/Modeling Project 2022/제출할 것만 최종정리/log_user_345_final.csv')"
      ],
      "metadata": {
        "id": "OAbI9QryG7oa"
      },
      "execution_count": null,
      "outputs": []
    },
    {
      "cell_type": "markdown",
      "source": [
        "##3.1. 인풋 변수 선택"
      ],
      "metadata": {
        "id": "z8OwanYGuFn4"
      }
    },
    {
      "cell_type": "code",
      "source": [
        "spec_loan_log_345 = pd.merge(spec_loan_345, log_user_345, left_on = ['user_id', 'applied_once'], right_on = ['user_id', 'applied_once'], how = 'left')"
      ],
      "metadata": {
        "id": "yZc2hxKdEzMh"
      },
      "execution_count": null,
      "outputs": []
    },
    {
      "cell_type": "code",
      "source": [
        "spec_loan_log_345['CompleteIDCertification'] = spec_loan_log_345['CompleteIDCertification'].fillna(spec_loan_log_345['CompleteIDCertification'].mean())\n",
        "spec_loan_log_345['EndLoanApply'] = spec_loan_log_345['EndLoanApply'].fillna(spec_loan_log_345['EndLoanApply'].mean())\n",
        "spec_loan_log_345['GetCreditInfo'] = spec_loan_log_345['GetCreditInfo'].fillna(spec_loan_log_345['GetCreditInfo'].mean())\n",
        "spec_loan_log_345['Login'] = spec_loan_log_345['Login'].fillna(spec_loan_log_345['Login'].mean())\n",
        "spec_loan_log_345['OpenApp'] = spec_loan_log_345['OpenApp'].fillna(spec_loan_log_345['OpenApp'].mean())\n",
        "spec_loan_log_345['SignUp'] = spec_loan_log_345['SignUp'].fillna(spec_loan_log_345['SignUp'].mean())\n",
        "spec_loan_log_345['StartLoanApply'] = spec_loan_log_345['StartLoanApply'].fillna(spec_loan_log_345['StartLoanApply'].mean())\n",
        "spec_loan_log_345['UseDSRCalc'] = spec_loan_log_345['UseDSRCalc'].fillna(spec_loan_log_345['UseDSRCalc'].mean())\n",
        "spec_loan_log_345['UseLoanManage'] = spec_loan_log_345['UseLoanManage'].fillna(spec_loan_log_345['UseLoanManage'].mean())\n",
        "spec_loan_log_345['UsePrepayCalc'] = spec_loan_log_345['UsePrepayCalc'].fillna(spec_loan_log_345['UsePrepayCalc'].mean())\n",
        "spec_loan_log_345['ViewLoanApplyIntro'] = spec_loan_log_345['ViewLoanApplyIntro'].fillna(spec_loan_log_345['ViewLoanApplyIntro'].mean())"
      ],
      "metadata": {
        "id": "XkOUkG5kpzUA"
      },
      "execution_count": null,
      "outputs": []
    },
    {
      "cell_type": "code",
      "source": [
        "#연령, 성별, 입사월, inser_time, loan_apply_inser_time은 제외\n",
        "\n",
        "spec_loan_log_345 = spec_loan_log_345[['application_id', 'user_id', 'credit_score', 'yearly_income', 'income_type',\n",
        "                            'employment_type', 'houseown_type', 'desired_amount', 'purpose', \n",
        "                            'bank_id', 'product_id', 'loan_limit', 'loan_rate', 'CompleteIDCertification', 'EndLoanApply', 'GetCreditInfo',\n",
        "                            'Login', 'OpenApp', 'SignUp', 'StartLoanApply', 'UseDSRCalc',\n",
        "                            'UseLoanManage', 'UsePrepayCalc', 'ViewLoanApplyIntro', 'applied_once', 'is_applied']]"
      ],
      "metadata": {
        "id": "uftvRyFFuEmO"
      },
      "execution_count": null,
      "outputs": []
    },
    {
      "cell_type": "markdown",
      "source": [
        "###3.1.1. 대출조건 표준화"
      ],
      "metadata": {
        "id": "LZawfk-Ef_2B"
      }
    },
    {
      "cell_type": "code",
      "source": [
        "user_rate_mean = spec_loan_log_345.groupby('user_id')['loan_rate'].mean()\n",
        "user_rate_std = spec_loan_log_345.groupby('user_id')['loan_rate'].std()\n",
        "user_limit_mean = spec_loan_log_345.groupby('user_id')['loan_limit'].mean()\n",
        "user_limit_std = spec_loan_log_345.groupby('user_id')['loan_limit'].std()"
      ],
      "metadata": {
        "id": "xWk9L5MZc0lh"
      },
      "execution_count": null,
      "outputs": []
    },
    {
      "cell_type": "code",
      "source": [
        "loan_st = pd.DataFrame()\n",
        "loan_st['user_id'] = X['user_id'].unique()\n",
        "loan_st = loan_st.sort_values('user_id')\n",
        "loan_st['rate_mean'] = user_rate_mean.tolist()\n",
        "loan_st['rate_std'] = user_rate_std.tolist()\n",
        "loan_st['limit_mean'] = user_limit_mean.tolist()\n",
        "loan_st['limit_std'] = user_limit_std.tolist()"
      ],
      "metadata": {
        "id": "VerGHAWqdQ4R"
      },
      "execution_count": null,
      "outputs": []
    },
    {
      "cell_type": "code",
      "source": [
        "spec_loan_log_345 = pd.merge(spec_loan_log_345, loan_st, left_on = 'user_id', right_on = 'user_id', how = 'left')"
      ],
      "metadata": {
        "id": "Jaxoz1vdiGS1"
      },
      "execution_count": null,
      "outputs": []
    },
    {
      "cell_type": "code",
      "source": [
        "spec_loan_log_345['rate_std'] = spec_loan_log_345['rate_std'].fillna(spec_loan_log_345['rate_std'].mean())\n",
        "spec_loan_log_345['limit_std'] = spec_loan_log_345['limit_std'].fillna(spec_loan_log_345['limit_std'].mean())"
      ],
      "metadata": {
        "id": "kfnt9PhKLqyu"
      },
      "execution_count": null,
      "outputs": []
    },
    {
      "cell_type": "code",
      "source": [
        "spec_loan_log_345['rate_s'] = (spec_loan_log_345['loan_rate'] - spec_loan_log_345['rate_mean'])/spec_loan_log_345['rate_std']\n",
        "spec_loan_log_345['limit_s'] = (spec_loan_log_345['loan_limit'] - spec_loan_log_345['limit_mean'])/spec_loan_log_345['limit_std']"
      ],
      "metadata": {
        "id": "IgfxSecmhLlo"
      },
      "execution_count": null,
      "outputs": []
    },
    {
      "cell_type": "code",
      "source": [
        "import numpy as np\n",
        "\n",
        "spec_loan_log_345 = spec_loan_log_345.replace([np.inf, -np.inf], np.nan)"
      ],
      "metadata": {
        "id": "--lBBv_qrkZG"
      },
      "execution_count": null,
      "outputs": []
    },
    {
      "cell_type": "code",
      "source": [
        "spec_loan_log_345['rate_s'] = spec_loan_log_345['rate_s'].fillna(spec_loan_log_345['rate_s'].mean())\n",
        "spec_loan_log_345['limit_s'] = spec_loan_log_345['limit_s'].fillna(spec_loan_log_345['limit_s'].mean())"
      ],
      "metadata": {
        "id": "wtLK1NfZMW7F"
      },
      "execution_count": null,
      "outputs": []
    },
    {
      "cell_type": "code",
      "source": [
        "spec_loan_log_345.isna().sum()"
      ],
      "metadata": {
        "id": "dy-aJd1PraXy"
      },
      "execution_count": null,
      "outputs": []
    },
    {
      "cell_type": "code",
      "source": [
        "spec_loan_log_345.columns"
      ],
      "metadata": {
        "id": "1HZqwK2ZtfF6"
      },
      "execution_count": null,
      "outputs": []
    },
    {
      "cell_type": "code",
      "source": [
        "spec_loan_log_345 = spec_loan_log_345[['application_id', 'user_id', 'credit_score', 'yearly_income',\n",
        "       'income_type', 'employment_type', 'houseown_type', 'desired_amount', 'purpose', \n",
        "       'CompleteIDCertification', 'EndLoanApply', 'GetCreditInfo', 'Login',\n",
        "       'OpenApp', 'SignUp', 'StartLoanApply', 'UseDSRCalc', 'UseLoanManage',\n",
        "       'UsePrepayCalc', 'ViewLoanApplyIntro', \n",
        "       'rate_s', 'limit_s', 'bank_id', 'product_id', 'applied_once', 'is_applied']]"
      ],
      "metadata": {
        "id": "JN5jDsy4tcVH"
      },
      "execution_count": null,
      "outputs": []
    },
    {
      "cell_type": "code",
      "source": [
        "spec_loan_log_345.to_csv('spec_loan_log_345.csv', index = False)"
      ],
      "metadata": {
        "id": "w73EgZQOsMWq"
      },
      "execution_count": null,
      "outputs": []
    },
    {
      "cell_type": "markdown",
      "source": [
        "##3.2. train set과 test set의 분리"
      ],
      "metadata": {
        "id": "cc01yzxG90XS"
      }
    },
    {
      "cell_type": "code",
      "source": [
        "#Google Colab\n",
        "\n",
        "from google.colab import drive\n",
        "drive.mount('/content/drive')\n",
        "\n",
        "%cd /content/drive/MyDrive/Modeling Project 2022/제출할 것만 최종정리\n",
        "\n",
        "import pandas as pd\n",
        "\n",
        "spec_loan_log_345 = pd.read_csv('/content/drive/MyDrive/Modeling Project 2022/제출할 것만 최종정리/spec_loan_log_345.csv')"
      ],
      "metadata": {
        "id": "dvGy2JbCxQ1X"
      },
      "execution_count": null,
      "outputs": []
    },
    {
      "cell_type": "code",
      "source": [
        "from sklearn.model_selection import train_test_split\n",
        "\n",
        "#사용할 특성 추출\n",
        "\n",
        "X = spec_loan_log_345[['application_id', 'user_id', 'credit_score', 'yearly_income',\n",
        "       'income_type', 'employment_type', 'houseown_type', 'desired_amount', 'purpose', \n",
        "       'CompleteIDCertification', 'EndLoanApply', 'GetCreditInfo', 'Login',\n",
        "       'OpenApp', 'SignUp', 'StartLoanApply', 'UseDSRCalc', 'UseLoanManage',\n",
        "       'UsePrepayCalc', 'ViewLoanApplyIntro', \n",
        "       'rate_s', 'limit_s', 'bank_id', 'product_id', 'applied_once']]\n",
        "Y = spec_loan_log_345['is_applied']\n",
        "\n",
        "#train, test set 분리\n",
        "\n",
        "X_train, X_test, y_train, y_test = train_test_split(X, Y, test_size=0.2, random_state=101)"
      ],
      "metadata": {
        "id": "pqeUflc7JhBr"
      },
      "execution_count": null,
      "outputs": []
    },
    {
      "cell_type": "code",
      "source": [
        "#훈련이 두 가지 확률을 분리해서 계산하므로, 다음의 과정이 필요함\n",
        "\n",
        "X_train['is_applied'] = y_train\n",
        "X_test['is_applied'] = y_test"
      ],
      "metadata": {
        "id": "qQTIPw-G1dH4"
      },
      "execution_count": null,
      "outputs": []
    },
    {
      "cell_type": "markdown",
      "source": [
        "##3.3. 모델링 전 추가 전처리"
      ],
      "metadata": {
        "id": "cqign-B6JhcO"
      }
    },
    {
      "cell_type": "markdown",
      "source": [
        "###3.3.1. 은행별 및 대출상품별 신청률 변수 추가"
      ],
      "metadata": {
        "id": "znI5wbncbkIe"
      }
    },
    {
      "cell_type": "code",
      "source": [
        "#train set 내에서 은행별 신청률\n",
        "\n",
        "bank_applied = pd.DataFrame(X_train.groupby('bank_id')['is_applied'].mean().sort_values())"
      ],
      "metadata": {
        "id": "UybVD1xs9TTe"
      },
      "execution_count": null,
      "outputs": []
    },
    {
      "cell_type": "code",
      "source": [
        "#빈도수가 너무 적은 은행의 경우 신청률을 평균 신청률로 대체(100 미만)\n",
        "\n",
        "print(X_train['bank_id'].value_counts())\n",
        "bank_applied.loc[16, 'is_applied'] = bank_applied['is_applied'].mean()\n",
        "bank_applied = bank_applied.rename(columns={'is_applied' : 'bank_applied'}) #기존 is_applied와 구분하는 이름 짓기"
      ],
      "metadata": {
        "id": "BXWXkS529iFW"
      },
      "execution_count": null,
      "outputs": []
    },
    {
      "cell_type": "code",
      "source": [
        "#트레인셋과 테스트셋에 트레인셋의 bank별 신청률을 bank_applied 칼럼으로 추가\n",
        "\n",
        "X_train = pd.merge(X_train, bank_applied, left_on = 'bank_id', right_on = 'bank_id', how = 'left')\n",
        "X_test = pd.merge(X_test, bank_applied, left_on = 'bank_id', right_on = 'bank_id', how = 'left')"
      ],
      "metadata": {
        "id": "YXo5W_imTCST"
      },
      "execution_count": null,
      "outputs": []
    },
    {
      "cell_type": "code",
      "source": [
        "#train set 내에서 대출상품별 신청률\n",
        "\n",
        "product_applied = pd.DataFrame(X_train.groupby('product_id')['is_applied'].mean().sort_values())"
      ],
      "metadata": {
        "id": "8kJg01TWWjF2"
      },
      "execution_count": null,
      "outputs": []
    },
    {
      "cell_type": "code",
      "source": [
        "#빈도수가 너무 적은 대출상품의 경우 신청률을 평균 신청률로 대체(100 미만)\n",
        "\n",
        "print(X_train['product_id'].value_counts()[150:])\n",
        "product_applied.loc[[93, 46, 166, 190, 238, 55, 240, 211], 'is_applied'] = product_applied['is_applied'].mean()\n",
        "product_applied = product_applied.rename(columns={'is_applied' : 'product_applied'}) #기존 is_applied와 구분하는 이름 짓기"
      ],
      "metadata": {
        "id": "a7b7Xs2qXiN0"
      },
      "execution_count": null,
      "outputs": []
    },
    {
      "cell_type": "code",
      "source": [
        "#트레인셋과 테스트셋에 트레인셋의 product별 신청률을 product_applied 칼럼으로 추가\n",
        "\n",
        "X_train = pd.merge(X_train, product_applied, left_on = 'product_id', right_on = 'product_id', how = 'left')\n",
        "X_test = pd.merge(X_test, product_applied, left_on = 'product_id', right_on = 'product_id', how = 'left')"
      ],
      "metadata": {
        "id": "5vHura44XeD8"
      },
      "execution_count": null,
      "outputs": []
    },
    {
      "cell_type": "code",
      "source": [
        "X_test['product_applied'] = X_test['product_applied'].fillna(X_test['product_applied'].mean())"
      ],
      "metadata": {
        "id": "gDKicijVuyxr"
      },
      "execution_count": null,
      "outputs": []
    },
    {
      "cell_type": "markdown",
      "source": [
        "##3.4. 상품 예측 훈련"
      ],
      "metadata": {
        "id": "hnHQf5v0pW-F"
      }
    },
    {
      "cell_type": "code",
      "source": [
        "#대출을 신청한 유저들이 어떤 상품을 신청하는지 예측하는 훈련이므로, 대출 신청한 유저들 대상으로만 훈련\n",
        "\n",
        "X_train_loan = X_train[X_train['applied_once'] == 1]\n",
        "y_train_loan = X_train_loan['is_applied']\n",
        "len(X_train_loan) == len(y_train_loan)"
      ],
      "metadata": {
        "id": "WmAD34hdpaUf",
        "colab": {
          "base_uri": "https://localhost:8080/"
        },
        "outputId": "e6d9c5f1-7b84-4b22-f179-e3489e40199b"
      },
      "execution_count": null,
      "outputs": [
        {
          "output_type": "execute_result",
          "data": {
            "text/plain": [
              "True"
            ]
          },
          "metadata": {},
          "execution_count": 14
        }
      ]
    },
    {
      "cell_type": "code",
      "source": [
        "#상품 예측 훈련의 변수는 다음의 4가지 특성\n",
        "\n",
        "X_train_loan = X_train_loan[['limit_s', 'rate_s', 'bank_applied', 'product_applied']]"
      ],
      "metadata": {
        "id": "wtBxaBvBrG3b"
      },
      "execution_count": null,
      "outputs": []
    },
    {
      "cell_type": "code",
      "source": [
        "from sklearn.ensemble import RandomForestClassifier\n",
        "import joblib \n",
        "\n",
        "RF_loan = RandomForestClassifier(n_estimators = 6)\n",
        "RF_loan.fit(X_train_loan, y_train_loan)\n",
        "joblib.dump(RF_loan, 'RF_loan.pkl')"
      ],
      "metadata": {
        "id": "MpHom7UJrSYD",
        "colab": {
          "base_uri": "https://localhost:8080/"
        },
        "outputId": "5f522b9b-1d58-45ca-d04f-735d1d255d03"
      },
      "execution_count": null,
      "outputs": [
        {
          "output_type": "execute_result",
          "data": {
            "text/plain": [
              "['RF_loan.pkl']"
            ]
          },
          "metadata": {},
          "execution_count": 16
        }
      ]
    },
    {
      "cell_type": "markdown",
      "source": [
        "##3.5. 유저 예측 훈련"
      ],
      "metadata": {
        "id": "T_AQkcZ_bwT9"
      }
    },
    {
      "cell_type": "code",
      "source": [
        "#유저 예측의 변수는 다음의 특성들을 사용\n",
        "\n",
        "X_train_user = X_train[['credit_score', 'yearly_income',\n",
        "       'income_type', 'employment_type', 'houseown_type', 'desired_amount',\n",
        "       'purpose', 'CompleteIDCertification', 'EndLoanApply', 'GetCreditInfo', 'Login',\n",
        "       'OpenApp', 'SignUp', 'StartLoanApply', 'UseDSRCalc', 'UseLoanManage',\n",
        "       'UsePrepayCalc', 'ViewLoanApplyIntro']]\n",
        "\n",
        "Y_train_user = X_train['applied_once']\n",
        "\n",
        "len(X_train_user) == len(Y_train_user)"
      ],
      "metadata": {
        "id": "S9yLmf0-b_-J",
        "colab": {
          "base_uri": "https://localhost:8080/"
        },
        "outputId": "2e0b273a-14f8-4901-bdf2-66158fd7ea0d"
      },
      "execution_count": null,
      "outputs": [
        {
          "output_type": "execute_result",
          "data": {
            "text/plain": [
              "True"
            ]
          },
          "metadata": {},
          "execution_count": 18
        }
      ]
    },
    {
      "cell_type": "code",
      "source": [
        "#범주형 변수 타입을 카테고리로 바꿔주어야 LGBM 적용 가능\n",
        "\n",
        "X_train_user['income_type'] = X_train_user['income_type'].astype('category')\n",
        "X_train_user['employment_type'] = X_train_user['employment_type'].astype('category')\n",
        "X_train_user['houseown_type'] = X_train_user['houseown_type'].astype('category')\n",
        "X_train_user['purpose'] = X_train_user['purpose'].astype('category')"
      ],
      "metadata": {
        "id": "bPUyX6BbmSQz"
      },
      "execution_count": null,
      "outputs": []
    },
    {
      "cell_type": "code",
      "source": [
        "import lightgbm as lgb\n",
        "\n",
        "lgbm_user = lgb.LGBMClassifier(objective='binary', boosting_type = '')\n",
        "lgbm_user.fit(X_train_user, Y_train_user)\n",
        "\n",
        "joblib.dump(lgbm_user, 'lgbm_user.pkl')"
      ],
      "metadata": {
        "colab": {
          "base_uri": "https://localhost:8080/"
        },
        "id": "dqGMw2SsnFNL",
        "outputId": "94aa4f1a-1924-4d97-a973-a3f091a809d2"
      },
      "execution_count": null,
      "outputs": [
        {
          "output_type": "execute_result",
          "data": {
            "text/plain": [
              "LGBMClassifier(boosting_type='', objective='binary')"
            ]
          },
          "metadata": {},
          "execution_count": 20
        }
      ]
    },
    {
      "cell_type": "markdown",
      "source": [
        "#4. 예측 모델 평가"
      ],
      "metadata": {
        "id": "ZtZFatpOrqjl"
      }
    },
    {
      "cell_type": "markdown",
      "source": [
        "##4.1. 유저가 대출을 받을 확률\n"
      ],
      "metadata": {
        "id": "YsDhNpQVrwpt"
      }
    },
    {
      "cell_type": "code",
      "source": [
        "#유저 예측 모형의 변수들 선택\n",
        "\n",
        "X_test_user = X_test[['credit_score', 'yearly_income',\n",
        "       'income_type', 'employment_type', 'houseown_type', 'desired_amount',\n",
        "       'purpose', 'CompleteIDCertification', 'EndLoanApply', 'GetCreditInfo', 'Login',\n",
        "       'OpenApp', 'SignUp', 'StartLoanApply', 'UseDSRCalc', 'UseLoanManage',\n",
        "       'UsePrepayCalc', 'ViewLoanApplyIntro']]\n",
        "\n",
        "#범주형 변수의 타입을 category로 재지정해주어야 LGBM 사용 가능\n",
        "\n",
        "X_test_user['income_type'] = X_test_user['income_type'].astype('category')\n",
        "X_test_user['employment_type'] = X_test_user['employment_type'].astype('category')\n",
        "X_test_user['houseown_type'] = X_test_user['houseown_type'].astype('category')\n",
        "X_test_user['purpose'] = X_test_user['purpose'].astype('category')"
      ],
      "metadata": {
        "id": "33kpWNNYugAN"
      },
      "execution_count": null,
      "outputs": []
    },
    {
      "cell_type": "code",
      "source": [
        "y_pred_user = lgbm_user.predict_proba(X_test_user)"
      ],
      "metadata": {
        "id": "xvom7OTrr77g"
      },
      "execution_count": null,
      "outputs": []
    },
    {
      "cell_type": "markdown",
      "source": [
        "## 4.2. 유저가 대출을 받을 때 상품이 선택될 확률"
      ],
      "metadata": {
        "id": "hc4112yHr512"
      }
    },
    {
      "cell_type": "code",
      "source": [
        "#상품 예측 모형의 변수들 선택\n",
        "\n",
        "X_test_loan = X_test[['limit_s', 'rate_s', 'bank_applied', 'product_applied']]"
      ],
      "metadata": {
        "id": "S6jXfncTuumP"
      },
      "execution_count": null,
      "outputs": []
    },
    {
      "cell_type": "code",
      "source": [
        "y_pred_loan = RF_loan.predict_proba(X_test_loan)"
      ],
      "metadata": {
        "id": "P5eQK515sOJ2"
      },
      "execution_count": null,
      "outputs": []
    },
    {
      "cell_type": "markdown",
      "source": [
        "##4.3. 최종 예측과 성능"
      ],
      "metadata": {
        "id": "muQ3ogG5sSik"
      }
    },
    {
      "cell_type": "code",
      "source": [
        "y_pred_prob = y_pred_user[:,1] * y_pred_loan[:,1]"
      ],
      "metadata": {
        "id": "JCZ1pyJ7sUcI"
      },
      "execution_count": null,
      "outputs": []
    },
    {
      "cell_type": "code",
      "source": [
        "#threshold 0.2로 하는 것이 recall 최대화\n",
        "\n",
        "y_pred = []\n",
        "for p in y_pred_prob:\n",
        "  if p > 0.2:\n",
        "    y_pred.append(1)\n",
        "  else:\n",
        "    y_pred.append(0)"
      ],
      "metadata": {
        "id": "mY8eUhQusgnl"
      },
      "execution_count": null,
      "outputs": []
    },
    {
      "cell_type": "code",
      "source": [
        "from sklearn.metrics import accuracy_score\n",
        "from sklearn.metrics import precision_score\n",
        "from sklearn.metrics import recall_score\n",
        "from sklearn.metrics import f1_score\n",
        "from sklearn.metrics import confusion_matrix\n",
        "\n",
        "print('accuracy : ', accuracy_score(y_test, y_pred))\n",
        "print('precision : ',precision_score(y_test, y_pred))\n",
        "print('recall : ',recall_score(y_test, y_pred))\n",
        "print('f1_score : ',f1_score(y_test, y_pred))\n",
        "\n",
        "print('')\n",
        "print('confusion matrix of model')\n",
        "print(confusion_matrix(y_test, y_pred)/len(y_test))\n",
        "\n",
        "print('')\n",
        "print('confusion matrix of ideal model')\n",
        "print(confusion_matrix(y_test, y_test)/len(y_test))"
      ],
      "metadata": {
        "id": "Le4U017hswb4",
        "colab": {
          "base_uri": "https://localhost:8080/"
        },
        "outputId": "73b8706e-5829-4594-f5b8-17293f4617ce"
      },
      "execution_count": null,
      "outputs": [
        {
          "output_type": "stream",
          "name": "stdout",
          "text": [
            "accuracy :  0.9042807219912727\n",
            "precision :  0.2600938494493755\n",
            "recall :  0.420048594990561\n",
            "f1_score :  0.3212622794534175\n",
            "\n",
            "confusion matrix of model\n",
            "[[0.88162765 0.0644427 ]\n",
            " [0.03127658 0.02265308]]\n",
            "\n",
            "confusion matrix of ideal model\n",
            "[[0.94607035 0.        ]\n",
            " [0.         0.05392965]]\n"
          ]
        }
      ]
    }
  ]
}